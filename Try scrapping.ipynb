{
 "cells": [
  {
   "cell_type": "code",
   "execution_count": 1,
   "metadata": {
    "collapsed": true
   },
   "outputs": [],
   "source": [
    "import pandas as pd\n",
    "import requests\n",
    "from bs4 import BeautifulSoup\n",
    "import numpy as np\n",
    "import json"
   ]
  },
  {
   "cell_type": "code",
   "execution_count": 2,
   "metadata": {
    "collapsed": true
   },
   "outputs": [],
   "source": [
    "headers = {'User-Agent': 'Mozilla/5.0 (Windows NT 6.3; Win64; x64) AppleWebKit/537.36 (KHTML, like Gecko) Chrome/80.0.3987.162 Safari/537.36'}\n",
    "data=json.load(open(\"data.json\"))\n",
    "random=list(data.keys())[:12000]"
   ]
  },
  {
   "cell_type": "code",
   "execution_count": 3,
   "metadata": {
    "collapsed": true
   },
   "outputs": [],
   "source": [
    "df=pd.read_csv('internship companies.csv')\n",
    "address=[]\n",
    "phone=[]"
   ]
  },
  {
   "cell_type": "code",
   "execution_count": null,
   "metadata": {},
   "outputs": [
    {
     "name": "stdout",
     "output_type": "stream",
     "text": [
      "index= 0\n",
      "index= 1\n",
      "index= 2\n",
      "index= 3\n",
      "index= 4\n",
      "index= 5\n",
      "index= 6\n",
      "index= 7\n",
      "index= 8\n",
      "index= 9\n",
      "index= 10\n",
      "index= 11\n",
      "index= 12\n"
     ]
    }
   ],
   "source": [
    "x=0\n",
    "for i in df['company']:\n",
    "    try:\n",
    "        q=i.replace(' ','+')\n",
    "\n",
    "        google=requests.get('https://www.google.com/search?client=safari&rls=en&q={}&ie=UTF-8&oe=UTF-8'.format(q),headers=headers).text\n",
    "        soup=BeautifulSoup(google,'lxml')\n",
    "        print('index=',x)\n",
    "        x=x+1\n",
    "        try:\n",
    "            if soup.find('span',class_='w8qArf').text=='Address: ':\n",
    "                address.append(soup.find('span',class_='LrzXr').text)\n",
    "                print(soup.find('span',class_='LrzXr').text)\n",
    "        except:\n",
    "            address.append(np.nan)\n",
    "        try:\n",
    "            phone.append(soup.find('span',class_='LrzXr zdqRlf kno-fv').text)\n",
    "            print(soup.find('span',class_='LrzXr zdqRlf kno-fv').text)\n",
    "        except:\n",
    "            phone.append(np.nan)\n",
    "        \n",
    "        r=random[x].replace(' ','+')\n",
    "        hoax=google=requests.get('https://www.google.com/search?client=safari&rls=en&q={}&ie=UTF-8&oe=UTF-8'.format(r),headers=headers).text\n",
    "        \n",
    "    except:\n",
    "        continue"
   ]
  },
  {
   "cell_type": "code",
   "execution_count": null,
   "metadata": {
    "collapsed": true
   },
   "outputs": [],
   "source": []
  }
 ],
 "metadata": {
  "kernelspec": {
   "display_name": "Python [conda env:anaconda]",
   "language": "python",
   "name": "conda-env-anaconda-py"
  },
  "language_info": {
   "codemirror_mode": {
    "name": "ipython",
    "version": 3
   },
   "file_extension": ".py",
   "mimetype": "text/x-python",
   "name": "python",
   "nbconvert_exporter": "python",
   "pygments_lexer": "ipython3",
   "version": "3.5.6"
  }
 },
 "nbformat": 4,
 "nbformat_minor": 2
}
